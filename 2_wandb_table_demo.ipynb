{
 "cells": [
  {
   "cell_type": "markdown",
   "id": "c8c1740e",
   "metadata": {},
   "source": [
    "# table 使用時機\n",
    "* 沒有\"時間\"屬性\n",
    "* 適合 二為矩陣來表示的情況\n",
    "* 如 測試、驗證的最後結果"
   ]
  },
  {
   "cell_type": "code",
   "execution_count": 2,
   "id": "8a737fe1",
   "metadata": {},
   "outputs": [
    {
     "data": {
      "text/html": [
       "Finishing last run (ID:461a1hfx) before initializing another..."
      ],
      "text/plain": [
       "<IPython.core.display.HTML object>"
      ]
     },
     "metadata": {},
     "output_type": "display_data"
    },
    {
     "data": {
      "application/vnd.jupyter.widget-view+json": {
       "model_id": "",
       "version_major": 2,
       "version_minor": 0
      },
      "text/plain": [
       "VBox(children=(Label(value='0.007 MB of 0.007 MB uploaded\\r'), FloatProgress(value=1.0, max=1.0)))"
      ]
     },
     "metadata": {},
     "output_type": "display_data"
    },
    {
     "data": {
      "text/html": [
       " View run <strong style=\"color:#cdcd00\">stellar-energy-1</strong> at: <a href='https://wandb.ai/nchc/demo_wandb_table/runs/461a1hfx' target=\"_blank\">https://wandb.ai/nchc/demo_wandb_table/runs/461a1hfx</a><br/> View project at: <a href='https://wandb.ai/nchc/demo_wandb_table' target=\"_blank\">https://wandb.ai/nchc/demo_wandb_table</a><br/>Synced 5 W&B file(s), 1 media file(s), 1 artifact file(s) and 0 other file(s)"
      ],
      "text/plain": [
       "<IPython.core.display.HTML object>"
      ]
     },
     "metadata": {},
     "output_type": "display_data"
    },
    {
     "data": {
      "text/html": [
       "Find logs at: <code>./wandb/run-20240905_104829-461a1hfx/logs</code>"
      ],
      "text/plain": [
       "<IPython.core.display.HTML object>"
      ]
     },
     "metadata": {},
     "output_type": "display_data"
    },
    {
     "data": {
      "text/html": [
       "The new W&B backend becomes opt-out in version 0.18.0; try it out with `wandb.require(\"core\")`! See https://wandb.me/wandb-core for more information."
      ],
      "text/plain": [
       "<IPython.core.display.HTML object>"
      ]
     },
     "metadata": {},
     "output_type": "display_data"
    },
    {
     "data": {
      "text/html": [
       "Successfully finished last run (ID:461a1hfx). Initializing new run:<br/>"
      ],
      "text/plain": [
       "<IPython.core.display.HTML object>"
      ]
     },
     "metadata": {},
     "output_type": "display_data"
    },
    {
     "data": {
      "application/vnd.jupyter.widget-view+json": {
       "model_id": "f5fadc5585b14f2e84bb44e495258d7e",
       "version_major": 2,
       "version_minor": 0
      },
      "text/plain": [
       "VBox(children=(Label(value='Waiting for wandb.init()...\\r'), FloatProgress(value=0.011112235921124617, max=1.0…"
      ]
     },
     "metadata": {},
     "output_type": "display_data"
    },
    {
     "data": {
      "text/html": [
       "wandb version 0.17.8 is available!  To upgrade, please run:\n",
       " $ pip install wandb --upgrade"
      ],
      "text/plain": [
       "<IPython.core.display.HTML object>"
      ]
     },
     "metadata": {},
     "output_type": "display_data"
    },
    {
     "data": {
      "text/html": [
       "Tracking run with wandb version 0.17.7"
      ],
      "text/plain": [
       "<IPython.core.display.HTML object>"
      ]
     },
     "metadata": {},
     "output_type": "display_data"
    },
    {
     "data": {
      "text/html": [
       "Run data is saved locally in <code>/home/waue0920/waue/wandb/wandb/run-20240905_110026-2tzao4ws</code>"
      ],
      "text/plain": [
       "<IPython.core.display.HTML object>"
      ]
     },
     "metadata": {},
     "output_type": "display_data"
    },
    {
     "data": {
      "text/html": [
       "Syncing run <strong><a href='https://wandb.ai/nchc/demo_wandb_table/runs/2tzao4ws' target=\"_blank\">revived-sunset-2</a></strong> to <a href='https://wandb.ai/nchc/demo_wandb_table' target=\"_blank\">Weights & Biases</a> (<a href='https://wandb.me/run' target=\"_blank\">docs</a>)<br/>"
      ],
      "text/plain": [
       "<IPython.core.display.HTML object>"
      ]
     },
     "metadata": {},
     "output_type": "display_data"
    },
    {
     "data": {
      "text/html": [
       " View project at <a href='https://wandb.ai/nchc/demo_wandb_table' target=\"_blank\">https://wandb.ai/nchc/demo_wandb_table</a>"
      ],
      "text/plain": [
       "<IPython.core.display.HTML object>"
      ]
     },
     "metadata": {},
     "output_type": "display_data"
    },
    {
     "data": {
      "text/html": [
       " View run at <a href='https://wandb.ai/nchc/demo_wandb_table/runs/2tzao4ws' target=\"_blank\">https://wandb.ai/nchc/demo_wandb_table/runs/2tzao4ws</a>"
      ],
      "text/plain": [
       "<IPython.core.display.HTML object>"
      ]
     },
     "metadata": {},
     "output_type": "display_data"
    },
    {
     "name": "stdout",
     "output_type": "stream",
     "text": [
      "完成.\n"
     ]
    }
   ],
   "source": [
    "import wandb\n",
    "import numpy as np\n",
    "\n",
    "wandb.init(project=\"demo_wandb_table\")\n",
    "\n",
    "\n",
    "categories = [\"car\", \"truck\", \"rider\", \"motocycle\", \"bus\"]\n",
    "models = [\"model_1\", \"model_2\", \"model_3\", \"model_4\", \"model_5\"]\n",
    "\n",
    "\n",
    "def test(model_id):\n",
    "    accuracy = {category: np.random.rand() for category in categories}\n",
    "    return accuracy\n",
    "\n",
    "# wandb table\n",
    "table = wandb.Table(columns=[\"model_id\"] + categories)\n",
    "\n",
    "for model_id in models:\n",
    "    accuracy = test(model_id)\n",
    "    # wandb table\n",
    "    table.add_data(model_id, *[accuracy[category] for category in categories])\n",
    "\n",
    "# wandb table\n",
    "wandb.log({\"model_accuracy_table\": table})\n",
    "\n",
    "print(\"完成.\")"
   ]
  },
  {
   "cell_type": "code",
   "execution_count": null,
   "id": "6001cede",
   "metadata": {},
   "outputs": [],
   "source": []
  }
 ],
 "metadata": {
  "kernelspec": {
   "display_name": "Python 3 (ipykernel)",
   "language": "python",
   "name": "python3"
  },
  "language_info": {
   "codemirror_mode": {
    "name": "ipython",
    "version": 3
   },
   "file_extension": ".py",
   "mimetype": "text/x-python",
   "name": "python",
   "nbconvert_exporter": "python",
   "pygments_lexer": "ipython3",
   "version": "3.10.12"
  }
 },
 "nbformat": 4,
 "nbformat_minor": 5
}

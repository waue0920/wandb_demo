{
 "cells": [
  {
   "cell_type": "markdown",
   "id": "0d0ed376",
   "metadata": {},
   "source": [
    "# 原始的python "
   ]
  },
  {
   "cell_type": "markdown",
   "id": "970573e0",
   "metadata": {},
   "source": [
    "如果你沒用 wandb 那可能是...\n"
   ]
  },
  {
   "cell_type": "code",
   "execution_count": 1,
   "id": "5ea03f34",
   "metadata": {
    "scrolled": true
   },
   "outputs": [
    {
     "name": "stdout",
     "output_type": "stream",
     "text": [
      "epoch_num 0 loss 10.0\n",
      "epoch_num 1 loss 9.9\n",
      "epoch_num 2 loss 9.8\n",
      "epoch_num 3 loss 9.700000000000001\n",
      "epoch_num 4 loss 9.600000000000001\n",
      "epoch_num 5 loss 9.5\n",
      "epoch_num 6 loss 9.4\n",
      "epoch_num 7 loss 9.3\n",
      "epoch_num 8 loss 9.200000000000001\n",
      "epoch_num 9 loss 9.1\n",
      "epoch_num 10 loss 9.0\n",
      "epoch_num 11 loss 8.9\n",
      "epoch_num 12 loss 8.8\n",
      "epoch_num 13 loss 8.700000000000001\n",
      "epoch_num 14 loss 8.6\n",
      "epoch_num 15 loss 8.5\n",
      "epoch_num 16 loss 8.4\n",
      "epoch_num 17 loss 8.3\n",
      "epoch_num 18 loss 8.200000000000001\n",
      "epoch_num 19 loss 8.1\n",
      "epoch_num 20 loss 8.0\n",
      "epoch_num 21 loss 7.9\n",
      "epoch_num 22 loss 7.800000000000001\n",
      "epoch_num 23 loss 7.7\n",
      "epoch_num 24 loss 7.6000000000000005\n",
      "epoch_num 25 loss 7.5\n",
      "epoch_num 26 loss 7.4\n",
      "epoch_num 27 loss 7.300000000000001\n",
      "epoch_num 28 loss 7.2\n",
      "epoch_num 29 loss 7.1000000000000005\n",
      "epoch_num 30 loss 7.0\n",
      "epoch_num 31 loss 6.9\n",
      "epoch_num 32 loss 6.800000000000001\n",
      "epoch_num 33 loss 6.7\n",
      "epoch_num 34 loss 6.6000000000000005\n",
      "epoch_num 35 loss 6.5\n",
      "epoch_num 36 loss 6.4\n",
      "epoch_num 37 loss 6.300000000000001\n",
      "epoch_num 38 loss 6.2\n",
      "epoch_num 39 loss 6.1000000000000005\n",
      "epoch_num 40 loss 6.0\n",
      "epoch_num 41 loss 5.9\n",
      "epoch_num 42 loss 5.800000000000001\n",
      "epoch_num 43 loss 5.7\n",
      "epoch_num 44 loss 5.6000000000000005\n",
      "epoch_num 45 loss 5.5\n",
      "epoch_num 46 loss 5.4\n",
      "epoch_num 47 loss 5.300000000000001\n",
      "epoch_num 48 loss 5.2\n",
      "epoch_num 49 loss 5.1000000000000005\n",
      "epoch_num 50 loss 5.0\n",
      "epoch_num 51 loss 4.9\n",
      "epoch_num 52 loss 4.800000000000001\n",
      "epoch_num 53 loss 4.7\n",
      "epoch_num 54 loss 4.6000000000000005\n",
      "epoch_num 55 loss 4.5\n",
      "epoch_num 56 loss 4.4\n",
      "epoch_num 57 loss 4.3\n",
      "epoch_num 58 loss 4.2\n",
      "epoch_num 59 loss 4.1000000000000005\n",
      "epoch_num 60 loss 4.0\n",
      "epoch_num 61 loss 3.9000000000000004\n",
      "epoch_num 62 loss 3.8000000000000003\n",
      "epoch_num 63 loss 3.7\n",
      "epoch_num 64 loss 3.6\n",
      "epoch_num 65 loss 3.5\n",
      "epoch_num 66 loss 3.4000000000000004\n",
      "epoch_num 67 loss 3.3000000000000003\n",
      "epoch_num 68 loss 3.2\n",
      "epoch_num 69 loss 3.1\n",
      "epoch_num 70 loss 3.0\n",
      "epoch_num 71 loss 2.9000000000000004\n",
      "epoch_num 72 loss 2.8000000000000003\n",
      "epoch_num 73 loss 2.7\n",
      "epoch_num 74 loss 2.6\n",
      "epoch_num 75 loss 2.5\n",
      "epoch_num 76 loss 2.4000000000000004\n",
      "epoch_num 77 loss 2.3000000000000003\n",
      "epoch_num 78 loss 2.2\n",
      "epoch_num 79 loss 2.1\n",
      "epoch_num 80 loss 2.0\n",
      "epoch_num 81 loss 1.9000000000000001\n",
      "epoch_num 82 loss 1.8\n",
      "epoch_num 83 loss 1.7000000000000002\n",
      "epoch_num 84 loss 1.6\n",
      "epoch_num 85 loss 1.5\n",
      "epoch_num 86 loss 1.4000000000000001\n",
      "epoch_num 87 loss 1.3\n",
      "epoch_num 88 loss 1.2000000000000002\n",
      "epoch_num 89 loss 1.1\n",
      "epoch_num 90 loss 1.0\n",
      "epoch_num 91 loss 0.9\n",
      "epoch_num 92 loss 0.8\n",
      "epoch_num 93 loss 0.7000000000000001\n",
      "epoch_num 94 loss 0.6000000000000001\n",
      "epoch_num 95 loss 0.5\n",
      "epoch_num 96 loss 0.4\n",
      "epoch_num 97 loss 0.30000000000000004\n",
      "epoch_num 98 loss 0.2\n",
      "epoch_num 99 loss 0.1\n"
     ]
    }
   ],
   "source": [
    "\n",
    "# \n",
    "# .....\n",
    "\n",
    "epoch_num = 100\n",
    "# 假設的訓練過程\n",
    "for epoch in range(epoch_num):\n",
    "    loss = 0.1 * (epoch_num - epoch)  \n",
    "    # 瞧瞧先\n",
    "    print(f\"epoch_num {epoch} loss {loss}\")"
   ]
  },
  {
   "cell_type": "markdown",
   "id": "f0b73b47",
   "metadata": {},
   "source": [
    "# wandb log 改寫"
   ]
  },
  {
   "cell_type": "markdown",
   "id": "fb64e786",
   "metadata": {},
   "source": [
    "最簡範例"
   ]
  },
  {
   "cell_type": "code",
   "execution_count": 2,
   "id": "05e3325a",
   "metadata": {},
   "outputs": [
    {
     "name": "stderr",
     "output_type": "stream",
     "text": [
      "Failed to detect the name of this notebook, you can set it manually with the WANDB_NOTEBOOK_NAME environment variable to enable code saving.\n",
      "\u001b[34m\u001b[1mwandb\u001b[0m: Currently logged in as: \u001b[33mwaue-cs07\u001b[0m (\u001b[33mnchc\u001b[0m). Use \u001b[1m`wandb login --relogin`\u001b[0m to force relogin\n"
     ]
    },
    {
     "data": {
      "text/html": [
       "wandb version 0.17.8 is available!  To upgrade, please run:\n",
       " $ pip install wandb --upgrade"
      ],
      "text/plain": [
       "<IPython.core.display.HTML object>"
      ]
     },
     "metadata": {},
     "output_type": "display_data"
    },
    {
     "data": {
      "text/html": [
       "Tracking run with wandb version 0.17.7"
      ],
      "text/plain": [
       "<IPython.core.display.HTML object>"
      ]
     },
     "metadata": {},
     "output_type": "display_data"
    },
    {
     "data": {
      "text/html": [
       "Run data is saved locally in <code>/home/waue0920/waue/wandb/wandb/run-20240905_102514-6fizfutx</code>"
      ],
      "text/plain": [
       "<IPython.core.display.HTML object>"
      ]
     },
     "metadata": {},
     "output_type": "display_data"
    },
    {
     "data": {
      "text/html": [
       "Syncing run <strong><a href='https://wandb.ai/nchc/demo_wandb_log/runs/6fizfutx' target=\"_blank\">crimson-smoke-1</a></strong> to <a href='https://wandb.ai/nchc/demo_wandb_log' target=\"_blank\">Weights & Biases</a> (<a href='https://wandb.me/run' target=\"_blank\">docs</a>)<br/>"
      ],
      "text/plain": [
       "<IPython.core.display.HTML object>"
      ]
     },
     "metadata": {},
     "output_type": "display_data"
    },
    {
     "data": {
      "text/html": [
       " View project at <a href='https://wandb.ai/nchc/demo_wandb_log' target=\"_blank\">https://wandb.ai/nchc/demo_wandb_log</a>"
      ],
      "text/plain": [
       "<IPython.core.display.HTML object>"
      ]
     },
     "metadata": {},
     "output_type": "display_data"
    },
    {
     "data": {
      "text/html": [
       " View run at <a href='https://wandb.ai/nchc/demo_wandb_log/runs/6fizfutx' target=\"_blank\">https://wandb.ai/nchc/demo_wandb_log/runs/6fizfutx</a>"
      ],
      "text/plain": [
       "<IPython.core.display.HTML object>"
      ]
     },
     "metadata": {},
     "output_type": "display_data"
    }
   ],
   "source": [
    "import wandb\n",
    "\n",
    "# 必要\n",
    "wandb.init(project=\"demo_wandb_log\")\n",
    "\n",
    "epoch_num = 100\n",
    "\n",
    "for epoch in range(epoch_num):\n",
    "    loss = 0.1 * (epoch_num - epoch)  \n",
    "    # 必要\n",
    "    wandb.log({\"loss\": loss})"
   ]
  },
  {
   "cell_type": "markdown",
   "id": "ec3ed0ae",
   "metadata": {},
   "source": [
    "加點料"
   ]
  },
  {
   "cell_type": "code",
   "execution_count": 3,
   "id": "c175e382",
   "metadata": {},
   "outputs": [
    {
     "data": {
      "text/html": [
       "Finishing last run (ID:6fizfutx) before initializing another..."
      ],
      "text/plain": [
       "<IPython.core.display.HTML object>"
      ]
     },
     "metadata": {},
     "output_type": "display_data"
    },
    {
     "data": {
      "application/vnd.jupyter.widget-view+json": {
       "model_id": "",
       "version_major": 2,
       "version_minor": 0
      },
      "text/plain": [
       "VBox(children=(Label(value='0.016 MB of 0.016 MB uploaded\\r'), FloatProgress(value=1.0, max=1.0)))"
      ]
     },
     "metadata": {},
     "output_type": "display_data"
    },
    {
     "data": {
      "text/html": [
       "<style>\n",
       "    table.wandb td:nth-child(1) { padding: 0 10px; text-align: left ; width: auto;} td:nth-child(2) {text-align: left ; width: 100%}\n",
       "    .wandb-row { display: flex; flex-direction: row; flex-wrap: wrap; justify-content: flex-start; width: 100% }\n",
       "    .wandb-col { display: flex; flex-direction: column; flex-basis: 100%; flex: 1; padding: 10px; }\n",
       "    </style>\n",
       "<div class=\"wandb-row\"><div class=\"wandb-col\"><h3>Run history:</h3><br/><table class=\"wandb\"><tr><td>loss</td><td>████▇▇▇▇▇▆▆▆▆▆▆▅▅▅▅▅▄▄▄▄▄▄▃▃▃▃▃▂▂▂▂▂▂▁▁▁</td></tr></table><br/></div><div class=\"wandb-col\"><h3>Run summary:</h3><br/><table class=\"wandb\"><tr><td>loss</td><td>0.1</td></tr></table><br/></div></div>"
      ],
      "text/plain": [
       "<IPython.core.display.HTML object>"
      ]
     },
     "metadata": {},
     "output_type": "display_data"
    },
    {
     "data": {
      "text/html": [
       " View run <strong style=\"color:#cdcd00\">crimson-smoke-1</strong> at: <a href='https://wandb.ai/nchc/demo_wandb_log/runs/6fizfutx' target=\"_blank\">https://wandb.ai/nchc/demo_wandb_log/runs/6fizfutx</a><br/> View project at: <a href='https://wandb.ai/nchc/demo_wandb_log' target=\"_blank\">https://wandb.ai/nchc/demo_wandb_log</a><br/>Synced 4 W&B file(s), 0 media file(s), 0 artifact file(s) and 0 other file(s)"
      ],
      "text/plain": [
       "<IPython.core.display.HTML object>"
      ]
     },
     "metadata": {},
     "output_type": "display_data"
    },
    {
     "data": {
      "text/html": [
       "Find logs at: <code>./wandb/run-20240905_102514-6fizfutx/logs</code>"
      ],
      "text/plain": [
       "<IPython.core.display.HTML object>"
      ]
     },
     "metadata": {},
     "output_type": "display_data"
    },
    {
     "data": {
      "text/html": [
       "The new W&B backend becomes opt-out in version 0.18.0; try it out with `wandb.require(\"core\")`! See https://wandb.me/wandb-core for more information."
      ],
      "text/plain": [
       "<IPython.core.display.HTML object>"
      ]
     },
     "metadata": {},
     "output_type": "display_data"
    },
    {
     "data": {
      "text/html": [
       "Successfully finished last run (ID:6fizfutx). Initializing new run:<br/>"
      ],
      "text/plain": [
       "<IPython.core.display.HTML object>"
      ]
     },
     "metadata": {},
     "output_type": "display_data"
    },
    {
     "data": {
      "application/vnd.jupyter.widget-view+json": {
       "model_id": "cbfac84bcb71479b8e877297fd48d606",
       "version_major": 2,
       "version_minor": 0
      },
      "text/plain": [
       "VBox(children=(Label(value='Waiting for wandb.init()...\\r'), FloatProgress(value=0.011112427690790759, max=1.0…"
      ]
     },
     "metadata": {},
     "output_type": "display_data"
    },
    {
     "data": {
      "text/html": [
       "wandb version 0.17.8 is available!  To upgrade, please run:\n",
       " $ pip install wandb --upgrade"
      ],
      "text/plain": [
       "<IPython.core.display.HTML object>"
      ]
     },
     "metadata": {},
     "output_type": "display_data"
    },
    {
     "data": {
      "text/html": [
       "Tracking run with wandb version 0.17.7"
      ],
      "text/plain": [
       "<IPython.core.display.HTML object>"
      ]
     },
     "metadata": {},
     "output_type": "display_data"
    },
    {
     "data": {
      "text/html": [
       "Run data is saved locally in <code>/home/waue0920/waue/wandb/wandb/run-20240905_102515-43k6y66q</code>"
      ],
      "text/plain": [
       "<IPython.core.display.HTML object>"
      ]
     },
     "metadata": {},
     "output_type": "display_data"
    },
    {
     "data": {
      "text/html": [
       "Syncing run <strong><a href='https://wandb.ai/nchc/demo_wandb_log/runs/43k6y66q' target=\"_blank\">atomic-oath-2</a></strong> to <a href='https://wandb.ai/nchc/demo_wandb_log' target=\"_blank\">Weights & Biases</a> (<a href='https://wandb.me/run' target=\"_blank\">docs</a>)<br/>"
      ],
      "text/plain": [
       "<IPython.core.display.HTML object>"
      ]
     },
     "metadata": {},
     "output_type": "display_data"
    },
    {
     "data": {
      "text/html": [
       " View project at <a href='https://wandb.ai/nchc/demo_wandb_log' target=\"_blank\">https://wandb.ai/nchc/demo_wandb_log</a>"
      ],
      "text/plain": [
       "<IPython.core.display.HTML object>"
      ]
     },
     "metadata": {},
     "output_type": "display_data"
    },
    {
     "data": {
      "text/html": [
       " View run at <a href='https://wandb.ai/nchc/demo_wandb_log/runs/43k6y66q' target=\"_blank\">https://wandb.ai/nchc/demo_wandb_log/runs/43k6y66q</a>"
      ],
      "text/plain": [
       "<IPython.core.display.HTML object>"
      ]
     },
     "metadata": {},
     "output_type": "display_data"
    }
   ],
   "source": [
    "import wandb\n",
    "\n",
    "# wandb\n",
    "wandb.init(project=\"demo_wandb_log\")\n",
    "\n",
    "# wandb\n",
    "config = {\n",
    "    \"learning_rate\": 0.01,\n",
    "    \"epochs\": 100,\n",
    "    \"batch_size\": 32\n",
    "}\n",
    "wandb.config.update(config)\n",
    "\n",
    "for epoch in range(config[\"epochs\"]):\n",
    "    loss = 0.1 * (config[\"epochs\"] - epoch)  \n",
    "    # wandb\n",
    "    wandb.log({\"loss\": loss})"
   ]
  },
  {
   "cell_type": "markdown",
   "id": "f3c9ca68",
   "metadata": {},
   "source": [
    "比較可能的圖型"
   ]
  },
  {
   "cell_type": "code",
   "execution_count": 4,
   "id": "6ea9f938",
   "metadata": {},
   "outputs": [
    {
     "data": {
      "text/html": [
       "Finishing last run (ID:43k6y66q) before initializing another..."
      ],
      "text/plain": [
       "<IPython.core.display.HTML object>"
      ]
     },
     "metadata": {},
     "output_type": "display_data"
    },
    {
     "data": {
      "application/vnd.jupyter.widget-view+json": {
       "model_id": "",
       "version_major": 2,
       "version_minor": 0
      },
      "text/plain": [
       "VBox(children=(Label(value='0.016 MB of 0.016 MB uploaded\\r'), FloatProgress(value=1.0, max=1.0)))"
      ]
     },
     "metadata": {},
     "output_type": "display_data"
    },
    {
     "data": {
      "text/html": [
       "<style>\n",
       "    table.wandb td:nth-child(1) { padding: 0 10px; text-align: left ; width: auto;} td:nth-child(2) {text-align: left ; width: 100%}\n",
       "    .wandb-row { display: flex; flex-direction: row; flex-wrap: wrap; justify-content: flex-start; width: 100% }\n",
       "    .wandb-col { display: flex; flex-direction: column; flex-basis: 100%; flex: 1; padding: 10px; }\n",
       "    </style>\n",
       "<div class=\"wandb-row\"><div class=\"wandb-col\"><h3>Run history:</h3><br/><table class=\"wandb\"><tr><td>loss</td><td>████▇▇▇▇▇▆▆▆▆▆▆▅▅▅▅▅▄▄▄▄▄▄▃▃▃▃▃▂▂▂▂▂▂▁▁▁</td></tr></table><br/></div><div class=\"wandb-col\"><h3>Run summary:</h3><br/><table class=\"wandb\"><tr><td>loss</td><td>0.1</td></tr></table><br/></div></div>"
      ],
      "text/plain": [
       "<IPython.core.display.HTML object>"
      ]
     },
     "metadata": {},
     "output_type": "display_data"
    },
    {
     "data": {
      "text/html": [
       " View run <strong style=\"color:#cdcd00\">atomic-oath-2</strong> at: <a href='https://wandb.ai/nchc/demo_wandb_log/runs/43k6y66q' target=\"_blank\">https://wandb.ai/nchc/demo_wandb_log/runs/43k6y66q</a><br/> View project at: <a href='https://wandb.ai/nchc/demo_wandb_log' target=\"_blank\">https://wandb.ai/nchc/demo_wandb_log</a><br/>Synced 4 W&B file(s), 0 media file(s), 0 artifact file(s) and 0 other file(s)"
      ],
      "text/plain": [
       "<IPython.core.display.HTML object>"
      ]
     },
     "metadata": {},
     "output_type": "display_data"
    },
    {
     "data": {
      "text/html": [
       "Find logs at: <code>./wandb/run-20240905_102515-43k6y66q/logs</code>"
      ],
      "text/plain": [
       "<IPython.core.display.HTML object>"
      ]
     },
     "metadata": {},
     "output_type": "display_data"
    },
    {
     "data": {
      "text/html": [
       "The new W&B backend becomes opt-out in version 0.18.0; try it out with `wandb.require(\"core\")`! See https://wandb.me/wandb-core for more information."
      ],
      "text/plain": [
       "<IPython.core.display.HTML object>"
      ]
     },
     "metadata": {},
     "output_type": "display_data"
    },
    {
     "data": {
      "text/html": [
       "Successfully finished last run (ID:43k6y66q). Initializing new run:<br/>"
      ],
      "text/plain": [
       "<IPython.core.display.HTML object>"
      ]
     },
     "metadata": {},
     "output_type": "display_data"
    },
    {
     "data": {
      "application/vnd.jupyter.widget-view+json": {
       "model_id": "2b16825961cb42b1b77a568e14a62b74",
       "version_major": 2,
       "version_minor": 0
      },
      "text/plain": [
       "VBox(children=(Label(value='Waiting for wandb.init()...\\r'), FloatProgress(value=0.01111241527315643, max=1.0)…"
      ]
     },
     "metadata": {},
     "output_type": "display_data"
    },
    {
     "data": {
      "text/html": [
       "wandb version 0.17.8 is available!  To upgrade, please run:\n",
       " $ pip install wandb --upgrade"
      ],
      "text/plain": [
       "<IPython.core.display.HTML object>"
      ]
     },
     "metadata": {},
     "output_type": "display_data"
    },
    {
     "data": {
      "text/html": [
       "Tracking run with wandb version 0.17.7"
      ],
      "text/plain": [
       "<IPython.core.display.HTML object>"
      ]
     },
     "metadata": {},
     "output_type": "display_data"
    },
    {
     "data": {
      "text/html": [
       "Run data is saved locally in <code>/home/waue0920/waue/wandb/wandb/run-20240905_102521-sc0jc8e0</code>"
      ],
      "text/plain": [
       "<IPython.core.display.HTML object>"
      ]
     },
     "metadata": {},
     "output_type": "display_data"
    },
    {
     "data": {
      "text/html": [
       "Syncing run <strong><a href='https://wandb.ai/nchc/demo_wandb_log/runs/sc0jc8e0' target=\"_blank\">glowing-donkey-3</a></strong> to <a href='https://wandb.ai/nchc/demo_wandb_log' target=\"_blank\">Weights & Biases</a> (<a href='https://wandb.me/run' target=\"_blank\">docs</a>)<br/>"
      ],
      "text/plain": [
       "<IPython.core.display.HTML object>"
      ]
     },
     "metadata": {},
     "output_type": "display_data"
    },
    {
     "data": {
      "text/html": [
       " View project at <a href='https://wandb.ai/nchc/demo_wandb_log' target=\"_blank\">https://wandb.ai/nchc/demo_wandb_log</a>"
      ],
      "text/plain": [
       "<IPython.core.display.HTML object>"
      ]
     },
     "metadata": {},
     "output_type": "display_data"
    },
    {
     "data": {
      "text/html": [
       " View run at <a href='https://wandb.ai/nchc/demo_wandb_log/runs/sc0jc8e0' target=\"_blank\">https://wandb.ai/nchc/demo_wandb_log/runs/sc0jc8e0</a>"
      ],
      "text/plain": [
       "<IPython.core.display.HTML object>"
      ]
     },
     "metadata": {},
     "output_type": "display_data"
    }
   ],
   "source": [
    "import wandb\n",
    "import numpy as np\n",
    "# wandb\n",
    "wandb.init(project=\"demo_wandb_log\")\n",
    "\n",
    "config = {\n",
    "    \"learning_rate\": 0.01,\n",
    "    \"epochs\": 100,\n",
    "    \"batch_size\": 32\n",
    "}\n",
    "wandb.config.update(config)\n",
    "\n",
    "for epoch in range(config[\"epochs\"]):\n",
    "    loss = np.exp(-epoch / (config[\"epochs\"] / 2)) + np.random.normal(0, 0.02)\n",
    "    loss = max(loss, 0) \n",
    "    # wandb\n",
    "    wandb.log({\"loss\": loss})"
   ]
  },
  {
   "cell_type": "markdown",
   "id": "bbcb35c9",
   "metadata": {},
   "source": [
    "# 展示重點\n",
    "* project / runs \n",
    "* runs 的 參數\n",
    "* 系統"
   ]
  },
  {
   "cell_type": "code",
   "execution_count": 6,
   "id": "7deccd3a",
   "metadata": {},
   "outputs": [
    {
     "data": {
      "text/html": [
       "Finishing last run (ID:2qrrzvro) before initializing another..."
      ],
      "text/plain": [
       "<IPython.core.display.HTML object>"
      ]
     },
     "metadata": {},
     "output_type": "display_data"
    },
    {
     "data": {
      "application/vnd.jupyter.widget-view+json": {
       "model_id": "",
       "version_major": 2,
       "version_minor": 0
      },
      "text/plain": [
       "VBox(children=(Label(value='0.004 MB of 0.004 MB uploaded\\r'), FloatProgress(value=1.0, max=1.0)))"
      ]
     },
     "metadata": {},
     "output_type": "display_data"
    },
    {
     "data": {
      "text/html": [
       "<style>\n",
       "    table.wandb td:nth-child(1) { padding: 0 10px; text-align: left ; width: auto;} td:nth-child(2) {text-align: left ; width: 100%}\n",
       "    .wandb-row { display: flex; flex-direction: row; flex-wrap: wrap; justify-content: flex-start; width: 100% }\n",
       "    .wandb-col { display: flex; flex-direction: column; flex-basis: 100%; flex: 1; padding: 10px; }\n",
       "    </style>\n",
       "<div class=\"wandb-row\"><div class=\"wandb-col\"><h3>Run history:</h3><br/><table class=\"wandb\"><tr><td>epoch</td><td>▁▁▁▁▂▂▂▂▂▃▃▃▃▃▃▄▄▄▄▄▅▅▅▅▅▅▆▆▆▆▆▇▇▇▇▇▇███</td></tr><tr><td>loss</td><td>██▇▇▆▆▆▆▅▅▅▅▄▄▄▄▄▄▃▃▃▃▃▂▃▃▂▂▂▂▂▂▂▁▁▂▁▁▁▁</td></tr></table><br/></div><div class=\"wandb-col\"><h3>Run summary:</h3><br/><table class=\"wandb\"><tr><td>epoch</td><td>99</td></tr><tr><td>loss</td><td>0.12275</td></tr></table><br/></div></div>"
      ],
      "text/plain": [
       "<IPython.core.display.HTML object>"
      ]
     },
     "metadata": {},
     "output_type": "display_data"
    },
    {
     "data": {
      "text/html": [
       " View run <strong style=\"color:#cdcd00\">different-dew-4</strong> at: <a href='https://wandb.ai/nchc/demo_wandb_log/runs/2qrrzvro' target=\"_blank\">https://wandb.ai/nchc/demo_wandb_log/runs/2qrrzvro</a><br/> View project at: <a href='https://wandb.ai/nchc/demo_wandb_log' target=\"_blank\">https://wandb.ai/nchc/demo_wandb_log</a><br/>Synced 5 W&B file(s), 0 media file(s), 0 artifact file(s) and 0 other file(s)"
      ],
      "text/plain": [
       "<IPython.core.display.HTML object>"
      ]
     },
     "metadata": {},
     "output_type": "display_data"
    },
    {
     "data": {
      "text/html": [
       "Find logs at: <code>./wandb/run-20240905_103451-2qrrzvro/logs</code>"
      ],
      "text/plain": [
       "<IPython.core.display.HTML object>"
      ]
     },
     "metadata": {},
     "output_type": "display_data"
    },
    {
     "data": {
      "text/html": [
       "The new W&B backend becomes opt-out in version 0.18.0; try it out with `wandb.require(\"core\")`! See https://wandb.me/wandb-core for more information."
      ],
      "text/plain": [
       "<IPython.core.display.HTML object>"
      ]
     },
     "metadata": {},
     "output_type": "display_data"
    },
    {
     "data": {
      "text/html": [
       "Successfully finished last run (ID:2qrrzvro). Initializing new run:<br/>"
      ],
      "text/plain": [
       "<IPython.core.display.HTML object>"
      ]
     },
     "metadata": {},
     "output_type": "display_data"
    },
    {
     "data": {
      "application/vnd.jupyter.widget-view+json": {
       "model_id": "751d6f4b66c648bca9b35a87bfccbbe4",
       "version_major": 2,
       "version_minor": 0
      },
      "text/plain": [
       "VBox(children=(Label(value='Waiting for wandb.init()...\\r'), FloatProgress(value=0.01111234062247806, max=1.0)…"
      ]
     },
     "metadata": {},
     "output_type": "display_data"
    },
    {
     "data": {
      "text/html": [
       "wandb version 0.17.8 is available!  To upgrade, please run:\n",
       " $ pip install wandb --upgrade"
      ],
      "text/plain": [
       "<IPython.core.display.HTML object>"
      ]
     },
     "metadata": {},
     "output_type": "display_data"
    },
    {
     "data": {
      "text/html": [
       "Tracking run with wandb version 0.17.7"
      ],
      "text/plain": [
       "<IPython.core.display.HTML object>"
      ]
     },
     "metadata": {},
     "output_type": "display_data"
    },
    {
     "data": {
      "text/html": [
       "Run data is saved locally in <code>/home/waue0920/waue/wandb/wandb/run-20240905_103704-hy9cp2jh</code>"
      ],
      "text/plain": [
       "<IPython.core.display.HTML object>"
      ]
     },
     "metadata": {},
     "output_type": "display_data"
    },
    {
     "data": {
      "text/html": [
       "Syncing run <strong><a href='https://wandb.ai/nchc/demo_wandb_log/runs/hy9cp2jh' target=\"_blank\">lilac-bush-5</a></strong> to <a href='https://wandb.ai/nchc/demo_wandb_log' target=\"_blank\">Weights & Biases</a> (<a href='https://wandb.me/run' target=\"_blank\">docs</a>)<br/>"
      ],
      "text/plain": [
       "<IPython.core.display.HTML object>"
      ]
     },
     "metadata": {},
     "output_type": "display_data"
    },
    {
     "data": {
      "text/html": [
       " View project at <a href='https://wandb.ai/nchc/demo_wandb_log' target=\"_blank\">https://wandb.ai/nchc/demo_wandb_log</a>"
      ],
      "text/plain": [
       "<IPython.core.display.HTML object>"
      ]
     },
     "metadata": {},
     "output_type": "display_data"
    },
    {
     "data": {
      "text/html": [
       " View run at <a href='https://wandb.ai/nchc/demo_wandb_log/runs/hy9cp2jh' target=\"_blank\">https://wandb.ai/nchc/demo_wandb_log/runs/hy9cp2jh</a>"
      ],
      "text/plain": [
       "<IPython.core.display.HTML object>"
      ]
     },
     "metadata": {},
     "output_type": "display_data"
    },
    {
     "name": "stdout",
     "output_type": "stream",
     "text": [
      "Training completed!\n"
     ]
    }
   ],
   "source": [
    "import wandb\n",
    "import numpy as np\n",
    "\n",
    "wandb.init(project=\"demo_wandb_log\")\n",
    "\n",
    "config = {\n",
    "    \"learning_rate\": 0.01,\n",
    "    \"epochs\": 100,\n",
    "    \"batch_size\": 32\n",
    "}\n",
    "wandb.config.update(config)\n",
    "\n",
    "for epoch in range(config[\"epochs\"]):\n",
    "    loss = np.exp(-epoch / (config[\"epochs\"] / 2)) + np.random.normal(0, 0.02)\n",
    "    loss = max(loss, 0) \n",
    "    \n",
    "    if loss < 0.2:\n",
    "        wandb.alert(\n",
    "            title=\"Loss Alert\",\n",
    "            text=f\"Warning: Loss under 0.2 at epoch {epoch}, loss: {loss:.4f}\",\n",
    "            level=wandb.AlertLevel.WARN  \n",
    "        )\n",
    "    wandb.log({\"epoch\": epoch, \"loss\": loss})\n",
    "    break   # 是否要停止訓練\n",
    "    \n",
    "print(\"Training completed!\")"
   ]
  },
  {
   "cell_type": "code",
   "execution_count": null,
   "id": "be3acb52",
   "metadata": {},
   "outputs": [],
   "source": []
  }
 ],
 "metadata": {
  "kernelspec": {
   "display_name": "Python 3 (ipykernel)",
   "language": "python",
   "name": "python3"
  },
  "language_info": {
   "codemirror_mode": {
    "name": "ipython",
    "version": 3
   },
   "file_extension": ".py",
   "mimetype": "text/x-python",
   "name": "python",
   "nbconvert_exporter": "python",
   "pygments_lexer": "ipython3",
   "version": "3.10.12"
  }
 },
 "nbformat": 4,
 "nbformat_minor": 5
}
